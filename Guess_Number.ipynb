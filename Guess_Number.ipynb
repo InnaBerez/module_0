{
 "cells": [
  {
   "cell_type": "code",
   "execution_count": 1,
   "metadata": {},
   "outputs": [
    {
     "name": "stdout",
     "output_type": "stream",
     "text": [
      "Вы угадали число 85 за 5 попыток.\n"
     ]
    }
   ],
   "source": [
    "import numpy as np\n",
    "number = np.random.randint(1,101)    # загаданное число\n",
    "\n",
    "count = 0    #заводим счетчик попыток\n",
    "start, end = 1, 101    #определяем диапазон чисел\n",
    "\n",
    "\n",
    "'''В цикле while сужаем диапазон поиска путем деления исходного диапазона пополам\n",
    "с последующим переприсвоением значений границ'''\n",
    "\n",
    "while True:\n",
    "    count += 1\n",
    "    guess_num = (start+end) // 2    #предполагаемое число\n",
    "    if number > guess_num:\n",
    "        start = guess_num + 1\n",
    "    elif number < guess_num:\n",
    "        end = guess_num - 1\n",
    "    elif number == guess_num:\n",
    "        break     # выход из цикла, если угадали\n",
    "print (f\"Вы угадали число {number} за {count} попыток.\")"
   ]
  },
  {
   "cell_type": "code",
   "execution_count": null,
   "metadata": {},
   "outputs": [],
   "source": []
  }
 ],
 "metadata": {
  "kernelspec": {
   "display_name": "Python 3",
   "language": "python",
   "name": "python3"
  },
  "language_info": {
   "codemirror_mode": {
    "name": "ipython",
    "version": 3
   },
   "file_extension": ".py",
   "mimetype": "text/x-python",
   "name": "python",
   "nbconvert_exporter": "python",
   "pygments_lexer": "ipython3",
   "version": "3.8.3"
  }
 },
 "nbformat": 4,
 "nbformat_minor": 4
}
